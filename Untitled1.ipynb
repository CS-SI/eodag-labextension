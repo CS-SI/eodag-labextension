{
 "cells": [
  {
   "cell_type": "markdown",
   "id": "1016e13d-8edb-4f12-8631-4710bf2dccfb",
   "metadata": {},
   "source": []
  },
  {
   "cell_type": "code",
   "execution_count": null,
   "id": "a59ac919-7df3-46d9-8453-30e603227bcd",
   "metadata": {
    "collapsed": false,
    "jupyter": {
     "outputs_hidden": false
    },
    "tags": [
     "Injected by EODAG plugin"
    ]
   },
   "outputs": [],
   "source": [
    "from eodag import EODataAccessGateway, setup_logging\n",
    "\n",
    "setup_logging(1)  # 0: nothing, 1: only progress bars, 2: INFO, 3: DEBUG\n",
    "\n",
    "dag = EODataAccessGateway()\n",
    "search_results = dag.search(\n",
    "    provider=\"cop_ads\",\n",
    "    productType=\"CAMS_EAC4_MONTHLY\",\n",
    "    start=\"2024-12-01\",\n",
    "    end=\"2024-12-07\",\n",
    "    cloudCover=33,\n",
    ")"
   ]
  }
 ],
 "metadata": {
  "kernelspec": {
   "display_name": "Python 3 (ipykernel)",
   "language": "python",
   "name": "python3"
  },
  "language_info": {
   "codemirror_mode": {
    "name": "ipython",
    "version": 3
   },
   "file_extension": ".py",
   "mimetype": "text/x-python",
   "name": "python",
   "nbconvert_exporter": "python",
   "pygments_lexer": "ipython3",
   "version": "3.9.20"
  }
 },
 "nbformat": 4,
 "nbformat_minor": 5
}
