{
 "cells": [
  {
   "cell_type": "code",
   "execution_count": null,
   "id": "b7aef330-937b-4106-9149-510d0fa0a088",
   "metadata": {},
   "outputs": [],
   "source": []
  },
  {
   "cell_type": "code",
   "execution_count": null,
   "id": "620aeeb8-bb5c-4cd7-9618-31e88e4bab06",
   "metadata": {
    "collapsed": false,
    "jupyter": {
     "outputs_hidden": false
    },
    "tags": [
     "Injected by EODAG plugin"
    ]
   },
   "outputs": [],
   "source": [
    "from eodag import EODataAccessGateway, setup_logging\n",
    "\n",
    "setup_logging(1)  # 0: nothing, 1: only progress bars, 2: INFO, 3: DEBUG\n",
    "\n",
    "dag = EODataAccessGateway()\n",
    "search_results = dag.search(\n",
    "    provider=\"planetary_computer\",\n",
    "    productType=\"3dep-lidar-dsm\",\n",
    "    start=\"2024-12-01\",\n",
    "    end=\"2024-12-17\",\n",
    "    cloudCover=40,\n",
    ")"
   ]
  },
  {
   "cell_type": "code",
   "execution_count": null,
   "id": "b961d51f-242b-4853-9414-8fd966bc7065",
   "metadata": {
    "collapsed": false,
    "jupyter": {
     "outputs_hidden": false
    },
    "tags": [
     "Injected by EODAG plugin"
    ]
   },
   "outputs": [],
   "source": [
    "from eodag import EODataAccessGateway, setup_logging\n",
    "\n",
    "setup_logging(1)  # 0: nothing, 1: only progress bars, 2: INFO, 3: DEBUG\n",
    "\n",
    "dag = EODataAccessGateway()\n",
    "search_results = dag.search(\n",
    "    provider=\"cop_ads\",\n",
    "    productType=\"CAMS_EU_AIR_QUALITY_FORECAST\",\n",
    ")"
   ]
  },
  {
   "cell_type": "code",
   "execution_count": null,
   "id": "e75d2df8-c49d-492f-a963-5a895c1230a3",
   "metadata": {
    "collapsed": false,
    "jupyter": {
     "outputs_hidden": false
    },
    "tags": [
     "Injected by EODAG plugin"
    ]
   },
   "outputs": [],
   "source": [
    "from eodag import EODataAccessGateway, setup_logging\n",
    "\n",
    "setup_logging(1)  # 0: nothing, 1: only progress bars, 2: INFO, 3: DEBUG\n",
    "\n",
    "dag = EODataAccessGateway()\n",
    "search_results = dag.search(\n",
    "    provider=\"peps\",\n",
    "    productType=\"S1_SAR_OCN\",\n",
    ")"
   ]
  },
  {
   "cell_type": "code",
   "execution_count": null,
   "id": "9b6bd772-7890-48d2-b60e-768af80b42c3",
   "metadata": {
    "collapsed": false,
    "jupyter": {
     "outputs_hidden": false
    },
    "tags": [
     "Injected by EODAG plugin"
    ]
   },
   "outputs": [],
   "source": [
    "from eodag import EODataAccessGateway, setup_logging\n",
    "\n",
    "setup_logging(1)  # 0: nothing, 1: only progress bars, 2: INFO, 3: DEBUG\n",
    "\n",
    "dag = EODataAccessGateway()\n",
    "search_results = dag.search(\n",
    "    provider=\"cop_ads\",\n",
    "    productType=\"CAMS_EU_AIR_QUALITY_FORECAST\",\n",
    ")"
   ]
  },
  {
   "cell_type": "code",
   "execution_count": null,
   "id": "f16c13c2-e801-4aa4-8a4c-72311d89268b",
   "metadata": {
    "collapsed": false,
    "jupyter": {
     "outputs_hidden": false
    },
    "tags": [
     "Injected by EODAG plugin"
    ]
   },
   "outputs": [],
   "source": [
    "from eodag import EODataAccessGateway, setup_logging\n",
    "\n",
    "setup_logging(1)  # 0: nothing, 1: only progress bars, 2: INFO, 3: DEBUG\n",
    "\n",
    "dag = EODataAccessGateway()\n",
    "search_results = dag.search(\n",
    "    provider=\"cop_ads\",\n",
    "    productType=\"CAMS_EAC4_MONTHLY\",\n",
    ")"
   ]
  },
  {
   "cell_type": "code",
   "execution_count": null,
   "id": "64c16bdf-acdc-41b1-b78e-dff40d819190",
   "metadata": {
    "collapsed": false,
    "jupyter": {
     "outputs_hidden": false
    },
    "tags": [
     "Injected by EODAG plugin"
    ]
   },
   "outputs": [],
   "source": [
    "from eodag import EODataAccessGateway, setup_logging\n",
    "\n",
    "setup_logging(1)  # 0: nothing, 1: only progress bars, 2: INFO, 3: DEBUG\n",
    "\n",
    "dag = EODataAccessGateway()\n",
    "search_results = dag.search(\n",
    "    provider=\"cop_ads\",\n",
    "    productType=\"CAMS_EAC4\",\n",
    ")"
   ]
  }
 ],
 "metadata": {
  "kernelspec": {
   "display_name": "Python 3 (ipykernel)",
   "language": "python",
   "name": "python3"
  },
  "language_info": {
   "codemirror_mode": {
    "name": "ipython",
    "version": 3
   },
   "file_extension": ".py",
   "mimetype": "text/x-python",
   "name": "python",
   "nbconvert_exporter": "python",
   "pygments_lexer": "ipython3",
   "version": "3.9.20"
  }
 },
 "nbformat": 4,
 "nbformat_minor": 5
}
