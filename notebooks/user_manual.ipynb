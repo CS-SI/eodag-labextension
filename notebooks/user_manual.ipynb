{
 "cells": [
  {
   "cell_type": "markdown",
   "source": [
    "![eodag logo](https://eodag.readthedocs.io/en/latest/_static/eodag_logo.png)"
   ],
   "metadata": {}
  },
  {
   "cell_type": "markdown",
   "source": [
    "# Eodag search plugin user manual"
   ],
   "metadata": {}
  },
  {
   "cell_type": "markdown",
   "source": [
    "The eodag-labextension JupyterLab plugin brings satellite imagery search ability. With that extension you can search products, see results and check if results suits to your needs and finally generate Python code allowing to access to those products in the notebook.\n",
    "\n",
    "That tool is based on [eodag](https://eodag.readthedocs.io)."
   ],
   "metadata": {}
  },
  {
   "cell_type": "markdown",
   "source": [
    "## Configuration\n",
    "\n",
    "For some providers we don’t need to set up credentials to search for products. But if you wish to download them, you should set the credentials beforehand, using these two environment variables for instance."
   ],
   "metadata": {}
  },
  {
   "cell_type": "code",
   "execution_count": null,
   "source": [
    "# Example for PEPS\n",
    "os.environ[\"EODAG__PEPS__AUTH__CREDENTIALS__USERNAME\"] = \"PLEASE_CHANGE_ME\"\n",
    "os.environ[\"EODAG__PEPS__AUTH__CREDENTIALS__PASSWORD\"] = \"PLEASE_CHANGE_ME\""
   ],
   "outputs": [],
   "metadata": {}
  },
  {
   "cell_type": "markdown",
   "source": [
    "You can always configure eodag with your code, as shown in the [Configuration](https://eodag.readthedocs.io/en/stable/notebooks/api_user_guide/3_configuration.html) page of eodag's [Python API User Guide](https://eodag.readthedocs.io/en/stable/api_user_guide.html)."
   ],
   "metadata": {}
  },
  {
   "cell_type": "markdown",
   "source": [
    "## Search\n",
    "\n",
    "![extension logo](./images/eodag_labext_icon.png) Activate the plugin tab on the left of the JupuytuerLab interface by clicking on that icon.\n",
    "\n",
    "![extension form](./images/eodag_labext_form.png)\n",
    "\n",
    "With displayed search form, you can enter search extent and following search criteria:\n",
    "\n",
    "* **Product type**: the searched product type. For each entry of the drop-down list, a tooltip is displayed at hovering time with corresponding description. \n",
    "* **Start date**: minimal date of the search temporal window.\n",
    "* **End date**: maximal date of the search temporal window.\n",
    "* **Max cloud cover**: maximum cloud cover allowed in search results in percent.\n",
    "* **Additional parameters**: used to enter key-value pairs criteria for the request.\n",
    "\n",
    "You can draw multiple extents, or use none. Each extent can be a rectangle or a free polygon.\n",
    "Product type is mandatory. Other criterias are optional.\n",
    "\n",
    "Once search criteria are filled out, click on the \"Search\" button to proceed to next step. At the end of the search, a popup opens and displays results."
   ],
   "metadata": {}
  },
  {
   "cell_type": "markdown",
   "source": [
    "## Results display\n",
    "\n",
    "![extension popup](./images/eodag_labext_popup.png)\n",
    "\n",
    "The results display popup is compopsed of 3 parts:\n",
    "\n",
    "* a map showing products extent,\n",
    "* a table listing products,\n",
    "* a pane containing metadata for currently selected product.\n",
    "\n",
    "The results table allows you to access product metadata by clicking on the desired product line. The magnifying glass button allows you to zoom in on the product's in the map view. By scrolling down in the list of results, the search is automatically restarted to retrieve the following results.\n",
    "\n",
    "In the metadata view, clicking on the thumbnail displays it in native resolution. Clicking it again reduces its size again."
   ],
   "metadata": {}
  },
  {
   "cell_type": "markdown",
   "source": [
    "## Apply to the Jupyter notebook\n",
    "\n",
    "If the search result is correct, clicking on the \"Apply\" button will insert the Python eodag code in a new cell of the currently open notebook. The popup is automatically closed. From there, it is possible to work in the notebook on the search results by executing the eodag search.\n",
    "\n",
    "Here is an example of generated code:"
   ],
   "metadata": {}
  },
  {
   "cell_type": "code",
   "execution_count": null,
   "source": [
    "from eodag import EODataAccessGateway\n",
    "\n",
    "dag = EODataAccessGateway()\n",
    "product_type = \"S2_MSI_L1C\"\n",
    "footprint = {\n",
    "    \"lonmin\": 0.660957,\n",
    "    \"latmin\": 43.149093,\n",
    "    \"lonmax\": 2.388008,\n",
    "    \"latmax\": 44.190082,\n",
    "}\n",
    "cloud_cover = 15\n",
    "start, end = \"2019-02-01\", \"2019-02-15\"\n",
    "search_results, estimated_total_nbr_of_results = dag.search(\n",
    "    productType=product_type,\n",
    "    geometry=footprint,\n",
    "    startTimeFromAscendingNode=start,\n",
    "    completionTimeFromAscendingNode=end,\n",
    "    cloudCover=cloud_cover,\n",
    ")"
   ],
   "outputs": [],
   "metadata": {}
  },
  {
   "cell_type": "markdown",
   "source": [
    "The eodag configuration file should be located at `$HOME/.config/eodag/eodag.yml`. See [eodag documentation](https://eodag.readthedocs.io/en/latest/intro.html#how-to-configure-authentication-for-available-providers) for further informations.\n",
    "\n",
    "You may want to enforce usage of a particular provider. To do so, use `set_preferred_provider` and then execute a query like previously:"
   ],
   "metadata": {}
  },
  {
   "cell_type": "code",
   "execution_count": null,
   "source": [
    "dag = EODataAccessGateway()\n",
    "dag.set_preferred_provider(\"theia\")"
   ],
   "outputs": [],
   "metadata": {}
  },
  {
   "cell_type": "markdown",
   "source": [
    "## Using results\n",
    "\n",
    "Here are some examples about how to use search results into a notebook:"
   ],
   "metadata": {}
  },
  {
   "cell_type": "code",
   "execution_count": null,
   "source": [
    "from pprint import pprint\n",
    "\n",
    "# Display results list\n",
    "pprint(search_results)\n",
    "\n",
    "# Display products access paths\n",
    "pprint([p.location for p in search_results])"
   ],
   "outputs": [],
   "metadata": {}
  },
  {
   "cell_type": "markdown",
   "source": [
    "### Extract products extent"
   ],
   "metadata": {}
  },
  {
   "cell_type": "code",
   "execution_count": null,
   "source": [
    "from eodag.api.search_result import SearchResult\n",
    "\n",
    "results_geojson = SearchResult(search_results).as_geojson_object()\n",
    "\n",
    "from shapely.geometry import shape, GeometryCollection\n",
    "\n",
    "features = results_geojson[\"features\"]\n",
    "features = GeometryCollection(\n",
    "    [shape(feature[\"geometry\"]).buffer(0) for feature in features]\n",
    ")\n",
    "features"
   ],
   "outputs": [],
   "metadata": {}
  },
  {
   "cell_type": "markdown",
   "source": [
    "### Display products extent on a slippy map"
   ],
   "metadata": {}
  },
  {
   "cell_type": "code",
   "execution_count": null,
   "source": [
    "from folium import Map, GeoJson, Figure\n",
    "\n",
    "ext = features.bounds\n",
    "bounds = [[ext[1], ext[0]], [ext[3], ext[2]]]\n",
    "m = Map(tiles=\"Stamen Terrain\", control_scale=True,)\n",
    "GeoJson(results_geojson).add_to(m)\n",
    "m.fit_bounds(bounds)\n",
    "Figure(width=500, height=300).add_child(m)"
   ],
   "outputs": [],
   "metadata": {}
  },
  {
   "cell_type": "markdown",
   "source": [
    "## Downloading products\n",
    "\n",
    "To download products from the search request into a sub-directory called `download`, run:"
   ],
   "metadata": {}
  },
  {
   "cell_type": "code",
   "execution_count": null,
   "source": [
    "dag.download_all(search_results)"
   ],
   "outputs": [],
   "metadata": {}
  },
  {
   "cell_type": "markdown",
   "source": [
    "## Verbosity\n",
    "\n",
    "Eodag verbosity can be increased with following call with levels:\n",
    "\n",
    "- INFO: `verbose=1`\n",
    "- DEBUG: `verbose=3`"
   ],
   "metadata": {}
  },
  {
   "cell_type": "code",
   "execution_count": null,
   "source": [
    "from eodag.utils.logging import setup_logging\n",
    "setup_logging(verbose=3)"
   ],
   "outputs": [],
   "metadata": {}
  },
  {
   "cell_type": "markdown",
   "source": [
    "See [eodag documentation](https://eodag.readthedocs.io/) for more readings and tutorials about eodag library."
   ],
   "metadata": {}
  }
 ],
 "metadata": {
  "kernelspec": {
   "display_name": "Python 3 (ipykernel)",
   "language": "python",
   "name": "python3"
  },
  "language_info": {
   "codemirror_mode": {
    "name": "ipython",
    "version": 3
   },
   "file_extension": ".py",
   "mimetype": "text/x-python",
   "name": "python",
   "nbconvert_exporter": "python",
   "pygments_lexer": "ipython3",
   "version": "3.8.10"
  }
 },
 "nbformat": 4,
 "nbformat_minor": 4
}