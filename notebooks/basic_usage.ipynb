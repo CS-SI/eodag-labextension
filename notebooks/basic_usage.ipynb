{
 "cells": [
  {
   "cell_type": "markdown",
   "id": "4500919f-98a7-4f34-a3f0-f514c68995dc",
   "metadata": {},
   "source": [
    "# eodag-labextension: basic usage\n",
    "\n",
    "For a more advanced usage see the [user manual notebook](user_manual.ipynb)."
   ]
  },
  {
   "cell_type": "markdown",
   "id": "bb3ab893-73ca-4831-9437-4618bcb678d6",
   "metadata": {},
   "source": [
    "## 1. Configuration\n",
    "\n",
    "[eodag](https://github.com/CS-SI/eodag)  needs credentials for downloading products and with some providers also for searching.\n",
    "Credendials can be set in the [configuration file](https://eodag.readthedocs.io/en/stable/getting_started_guide/configure.html#yaml-configuration-file) or using [environment variables](https://eodag.readthedocs.io/en/stable/getting_started_guide/configure.html#environment-variable-configuration).\n",
    "\n",
    "Several [EO data providers](https://eodag.readthedocs.io/en/stable/getting_started_guide/providers.html) are available. Here is an example for setting credentials for *peps* provider:"
   ]
  },
  {
   "cell_type": "code",
   "execution_count": null,
   "id": "36cf8efc-78d0-4420-bb7c-246080c0cbd0",
   "metadata": {},
   "outputs": [],
   "source": [
    "import os\n",
    "os.environ[\"EODAG__PEPS__AUTH__CREDENTIALS__USERNAME\"] = \"PLEASE_CHANGE_ME\"\n",
    "os.environ[\"EODAG__PEPS__AUTH__CREDENTIALS__PASSWORD\"] = \"PLEASE_CHANGE_ME\""
   ]
  },
  {
   "cell_type": "markdown",
   "id": "6ab8ac8a-7559-490d-967a-d85b68a9f6cb",
   "metadata": {},
   "source": [
    "## 2. Search\n",
    "Please **select this notebook cell** and **use the left panel** to search for products. Then in the search results page, please click on the `apply` button (upper-right). See the [user manual](user_manual.ipynb) for further details.\n",
    "This will automatically generate and insert the corresponding `eodag` search code bellow this cell. Execute it to continue the workflow."
   ]
  },
  {
   "cell_type": "markdown",
   "id": "67d97a19-f93d-4076-aff9-45a7dbb2e7f7",
   "metadata": {},
   "source": [
    "## 3. Download\n",
    "\n",
    "This will download the first product. You can also use the [`download_all()`](https://eodag.readthedocs.io/en/stable/notebooks/api_user_guide/7_download.html#Download-multiple-products-at-once) method. See [download documentation](https://eodag.readthedocs.io/en/stable/notebooks/api_user_guide/7_download.html#Download-EO-products) for further details."
   ]
  },
  {
   "cell_type": "code",
   "execution_count": null,
   "id": "b9a955df-2f2b-4d91-b805-86c015ffa801",
   "metadata": {},
   "outputs": [],
   "source": [
    "dag.download(search_results[0])"
   ]
  }
 ],
 "metadata": {
  "kernelspec": {
   "display_name": "Python 3",
   "language": "python",
   "name": "python3"
  },
  "language_info": {
   "codemirror_mode": {
    "name": "ipython",
    "version": 3
   },
   "file_extension": ".py",
   "mimetype": "text/x-python",
   "name": "python",
   "nbconvert_exporter": "python",
   "pygments_lexer": "ipython3",
   "version": "3.8.10"
  },
  "widgets": {
   "application/vnd.jupyter.widget-state+json": {
    "state": {},
    "version_major": 2,
    "version_minor": 0
   }
  }
 },
 "nbformat": 4,
 "nbformat_minor": 5
}
